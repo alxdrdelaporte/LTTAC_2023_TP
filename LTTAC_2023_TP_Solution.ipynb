{
 "cells": [
  {
   "cell_type": "markdown",
   "id": "131cc0cb",
   "metadata": {},
   "source": [
    "#  Construire un corpus XML à partir du web"
   ]
  },
  {
   "cell_type": "markdown",
   "id": "57b3cd04",
   "metadata": {},
   "source": [
    "Dans cet exercice, vous allez produire un corpus XML très simple à partir de données extraites d'une page web. Les étapes à suivre sont les suivantes :\n",
    "1. Déclarer l'arborescence XML.\n",
    "2. Extraire les données d'une page web pour peupler l'arborescence.\n",
    "3. Enrichir les données XML.\n",
    "4. Enregistrer le corpus XML dans un fichier."
   ]
  },
  {
   "cell_type": "markdown",
   "id": "d323915a",
   "metadata": {},
   "source": [
    "Les données que vous allez traiter sont issues d'un petit lexique thématique français-japonais, constitué d'informations que j'ai collectées moi-même, manuellement, dans des dictionnaires bilingues japonais-français. Elles sont rassemblées dans un fichier TSV (il s'agit d'un format CSV dont le caractère séparateur est une tabulation plutôt qu'une virgule), qui est [mis à disposition sur Github](https://github.com/alxdrdelaporte/TEKIPAKI/blob/master/lexique_linguistique_japonais.tsv).\n",
    "\n",
    "L'interface de Github vous permet de consulter le fichier sous forme de tableau, dans lequel vous pouvez effectuer des recherches à partir de chaînes de caractères. Vous pouvez conserver cette vue dans un onglet pour garder un aperçu du tableau pendant votre travail, mais l'URL que nous allons interroger dans le script ne sera pas celle de cette page. Ce sera [celle de la visualisation dite \"raw\"](https://github.com/alxdrdelaporte/TEKIPAKI/raw/master/lexique_linguistique_japonais.tsv), c'est-à-dire qui présente le contenu du fichier seul, sans aucune forme d'interface graphique.\n",
    "\n",
    "En résumé :\n",
    "* URL à consulter pour avoir un aperçu des données à traiter = [https://github.com/alxdrdelaporte/TEKIPAKI/blob/master/lexique_linguistique_japonais.tsv](https://github.com/alxdrdelaporte/TEKIPAKI/blob/master/lexique_linguistique_japonais.tsv)\n",
    "* URL à utiliser dans le script pour extraire les données = [https://github.com/alxdrdelaporte/TEKIPAKI/raw/master/lexique_linguistique_japonais.tsv](https://github.com/alxdrdelaporte/TEKIPAKI/raw/master/lexique_linguistique_japonais.tsv)"
   ]
  },
  {
   "cell_type": "markdown",
   "id": "b39db1ef",
   "metadata": {},
   "source": [
    "C'est parti ! 🚀"
   ]
  },
  {
   "cell_type": "markdown",
   "id": "ed7ea1d1",
   "metadata": {},
   "source": [
    "## Déclarer l'arborescence XML <a id=\"arbo_xml\"></a>"
   ]
  },
  {
   "cell_type": "markdown",
   "id": "bb42d393",
   "metadata": {},
   "source": [
    "Nous allons créer un petit corpus au format XML à partir de ces données tabulaires. Dans le tableau, chaque ligne correspond à un item, représenté par ses différentes formes :\n",
    "* 3 formes pour la version japonaise, avec l'écriture en kanji (quand elle existe), la transcription en hiragana ou katakana, et la transcription en caractères latins, dits _rōmaji_.\n",
    "* L'équivalent traductionnel en français.\n",
    "\n",
    "En termes de structure XML, nous allons donc simplement créer un élément `<item>` pour chaque ligne du tableau, qui contiendra 4 sous-éléments correspondant à ses 4 formes écrites : `<kanji>`, `<hiragana_katakana>`, `<romaji>`, `<francais>`. Pour faciliter d'éventuels traitement automatiques ultérieurs, nous ajouterons également un attribut `id` à chaque élément `<item>`."
   ]
  },
  {
   "cell_type": "markdown",
   "id": "2f4c279b",
   "metadata": {},
   "source": [
    "```xml\n",
    "<LEXIQUE>\n",
    "    <item id=\"1\">\n",
    "        <kanji>...</kanji>\n",
    "        <hiragana_katakana>...</hiragana_katakana>\n",
    "        <romaji>...</romaji>\n",
    "        <francais>...</francais>\n",
    "    </item>\n",
    "    <!-- (...) -->\n",
    "</LEXIQUE>\n",
    "```"
   ]
  },
  {
   "cell_type": "markdown",
   "id": "01afceab",
   "metadata": {},
   "source": [
    "Dans le script, la création de l'arborescence XML commence par la déclaration de sa racine, ici `<LEXIQUE>`.\n",
    "\n",
    "Commençons par importer la librairie `xml.etree.ElementTree` qui permettra à Python de gérer le XML. Exécutez la cellule ci-dessous sans la modifier, soit en cliquant sur le bouton `Exécuter`, soit en utilisant les touches `shift`+`enter` ou `ctrl`+`enter`."
   ]
  },
  {
   "cell_type": "code",
   "execution_count": null,
   "id": "ac8eb467",
   "metadata": {},
   "outputs": [],
   "source": [
    "import xml.etree.ElementTree as ET"
   ]
  },
  {
   "cell_type": "markdown",
   "id": "8988c471",
   "metadata": {},
   "source": [
    "Les fonctions de la librairie `xml.etree.ElementTree` pourront désormais être appelées en utilisant la syntaxe `ET.nom_de_la_fonction()`. Sans `as ET` dans la ligne d'import, la syntaxe à utiliser serait `xml.etree.ElementTree.nom_de_la_fonction()`."
   ]
  },
  {
   "cell_type": "markdown",
   "id": "70b60920",
   "metadata": {},
   "source": [
    "La racine de la structure XML est un élément qui n'a pas besoin d'être rattaché à un élément parent. Ce cas est à représenter par une instance d'objet de la classe `Element`, issue de `ET`, en utilisant la syntaxe `ET.Element(\"Nom de l'élément\")`. Dans la cellule ci-dessous, déclarez la racine du corpus et associez-la à la variable `racine`."
   ]
  },
  {
   "cell_type": "code",
   "execution_count": null,
   "id": "d6a79a26",
   "metadata": {},
   "outputs": [],
   "source": [
    "# Déclarez la racine du corpus\n",
    "racine = ET.Element(\"LEXIQUE\")"
   ]
  },
  {
   "cell_type": "markdown",
   "id": "aae2f4a4",
   "metadata": {},
   "source": [
    "Voici 2 fonctions qui vous aideront pour la suite :\n",
    "* La fonction `xml2str()` convertit le XML en chaîne de caractères. Vous n'aurez pas besoin d'appeler directement cette fonction, elle sera appelée par d'autres fonctions.\n",
    "* La fonction `afficher_xml()` permet d'afficher une arborescence XML. Elle prend en paramètre la variable correspondant à la racine de l'arborescence.\n",
    "\n",
    "Vous n'avez pas besoin de modifier le contenu de la cellule ci-dessous, mais n'oubliez pas de l'exécuter avant de passer à la suite pour pouvoir utiliser ces deux fonctions."
   ]
  },
  {
   "cell_type": "code",
   "execution_count": null,
   "id": "037eeb7f",
   "metadata": {},
   "outputs": [],
   "source": [
    "def xml2str(racine_xml):\n",
    "    return ET.tostring(racine_xml, encoding=\"unicode\", method=\"xml\")\n",
    "\n",
    "\n",
    "def afficher_xml(racine_xml):\n",
    "    print(xml2str(racine_xml))"
   ]
  },
  {
   "cell_type": "markdown",
   "id": "87552742",
   "metadata": {},
   "source": [
    "La fonction `afficher_xml()` étant maintenant disponible, utilisez-la pour afficher la structure contenue dans `racine`."
   ]
  },
  {
   "cell_type": "code",
   "execution_count": null,
   "id": "006ebd43",
   "metadata": {},
   "outputs": [],
   "source": [
    "# Affichez la structure XML à l'aide de la fonction fournie\n",
    "afficher_xml(racine)"
   ]
  },
  {
   "cell_type": "markdown",
   "id": "be2df1a5",
   "metadata": {},
   "source": [
    "## Extraire les données de la page web pour peupler l'arborescence"
   ]
  },
  {
   "cell_type": "markdown",
   "id": "af8c214d",
   "metadata": {},
   "source": [
    "Pour récupérer les données d'une page web, il faut envoyer une requête à son URL, ce que permet de faire la librairie `requests`. Exécutez la cellule ci-dessous pour l'importer."
   ]
  },
  {
   "cell_type": "code",
   "execution_count": null,
   "id": "b3caf8e5",
   "metadata": {},
   "outputs": [],
   "source": [
    "import requests"
   ]
  },
  {
   "cell_type": "markdown",
   "id": "27e1a1cc",
   "metadata": {},
   "source": [
    "### Envoyer une requête à l'URL cible"
   ]
  },
  {
   "cell_type": "markdown",
   "id": "8125b732",
   "metadata": {},
   "source": [
    "Ce n'est pas forcément obligatoire, mais comme les URL peuvent être des chaînes de caractère relativement longues, il est plus confortable d'associer l'URL à une variable. Associez à la variable `url` l'URL que nous voulons interroger ici."
   ]
  },
  {
   "cell_type": "markdown",
   "id": "027cd890",
   "metadata": {},
   "source": [
    "**Note :** L'URL associée à la variable `url` étant une chaîne de caractères, elle doit être écrite entre guillemets afin d'être reconnue comme telle."
   ]
  },
  {
   "cell_type": "code",
   "execution_count": null,
   "id": "7613b850",
   "metadata": {},
   "outputs": [],
   "source": [
    "# Associez l'URL appropriée à la variable url\n",
    "url = \"https://raw.githubusercontent.com/alxdrdelaporte/TEKIPAKI/master/lexique_linguistique_japonais.tsv\""
   ]
  },
  {
   "cell_type": "markdown",
   "id": "67062b8a",
   "metadata": {},
   "source": [
    "C'est la fonction `.get()` qui va soumettre la requête ; puisqu'elle est issue de `requests`, la syntaxe à utiliser est `requests.get(url_à_interroger)`. Utilisez cette fonction sur l'URL de la page qui contient les données à extraire, et associez son résultat à la variable `page`."
   ]
  },
  {
   "cell_type": "code",
   "execution_count": null,
   "id": "00029826",
   "metadata": {},
   "outputs": [],
   "source": [
    "# Interrogez la page web\n",
    "page = requests.get(url)"
   ]
  },
  {
   "cell_type": "markdown",
   "id": "41067d48",
   "metadata": {},
   "source": [
    "Nous pouvons maintenant consulter le résultat de la requête en appelant la variable `page`. Appelez `page` dans la cellule ci-dessous."
   ]
  },
  {
   "cell_type": "code",
   "execution_count": null,
   "id": "e1146eb4",
   "metadata": {},
   "outputs": [],
   "source": [
    "# Appelez la variable page\n",
    "page"
   ]
  },
  {
   "cell_type": "markdown",
   "id": "ee0b0355",
   "metadata": {},
   "source": [
    "S'il n'y a pas de problème, vous obtenez `<Response [200]>`."
   ]
  },
  {
   "cell_type": "markdown",
   "id": "a8448c14",
   "metadata": {},
   "source": [
    "### Récupérer le code source"
   ]
  },
  {
   "cell_type": "markdown",
   "id": "2585f676",
   "metadata": {},
   "source": [
    "200 est le [code de réponse HTTP](https://developer.mozilla.org/fr/docs/Web/HTTP/Status) obtenu, et indique le succès de la requête. Le code source de la page interrogée est accessible via l'attribut `text` de `page` (`page.text`). Appelez cet attribut, en l'associant à la variable `donnees`."
   ]
  },
  {
   "cell_type": "code",
   "execution_count": null,
   "id": "1accf2ca",
   "metadata": {},
   "outputs": [],
   "source": [
    "# Associez à donnees l'attribut text de page\n",
    "donnees = page.text"
   ]
  },
  {
   "cell_type": "markdown",
   "id": "f63d76a6",
   "metadata": {},
   "source": [
    "Appelez `donnees` pour visualiser son contenu :"
   ]
  },
  {
   "cell_type": "code",
   "execution_count": null,
   "id": "d76dac67",
   "metadata": {},
   "outputs": [],
   "source": [
    "# Appelez la variable donnees\n",
    "donnees"
   ]
  },
  {
   "cell_type": "markdown",
   "id": "0d931a44",
   "metadata": {},
   "source": [
    "Vous obtenez normalement quelque chose qui ressemble à une assez longue chaîne de caractères qui commence comme ceci :"
   ]
  },
  {
   "cell_type": "markdown",
   "id": "98d9557f",
   "metadata": {},
   "source": [
    "```\n",
    "'Kanji\\tHiragana/Katakana\\tRōmaji (Hepburn)\\tFrançais\\n付録\\tふろく\\tfuroku\\tappendice\\n辞典\\tじてん\\tjiten\\tdictionnaire, lexique\\n英和辞典\\tえいわじてん\\teiwa jiten\\tdictionnaire anglais-japonais\\n英英辞典\\tえいえいじてん\\teiei jiten\\tdictionnaire anglais-anglais\\n仏和辞典\\tふつわじてん\\tfutsuwa jiten\\tdictionnaire français-japonais\\n\n",
    "(...)\n",
    "```"
   ]
  },
  {
   "cell_type": "markdown",
   "id": "077bbe15",
   "metadata": {},
   "source": [
    "### Traiter le code source pour déclarer et alimenter les sous-éléments XML"
   ]
  },
  {
   "cell_type": "markdown",
   "id": "0ccc8dbc",
   "metadata": {},
   "source": [
    "Est-ce vraiment une chaîne de caractères ? Vérifions avec la fonction `type()`, qui renvoie le type de données de ce qui lui est passé en paramètre. "
   ]
  },
  {
   "cell_type": "code",
   "execution_count": null,
   "id": "7d2904c8",
   "metadata": {},
   "outputs": [],
   "source": [
    "type(donnees)"
   ]
  },
  {
   "cell_type": "markdown",
   "id": "a7fc4531",
   "metadata": {},
   "source": [
    "Comme `type(donnees)` renvoie `str` (si ce n'est pas le cas, il y a une erreur dans les étapes précédentes !), notre variable `donnees` contient bien une chaîne de caractères. Il est alors possible de lui appliquer les méthodes et fonctions propres à [ce type de données](https://docs.python.org/3/library/stdtypes.html#text-sequence-type-str)."
   ]
  },
  {
   "cell_type": "markdown",
   "id": "ab923f93",
   "metadata": {},
   "source": [
    "Nous avons donc maintenant le contenu de la page web stocké dans la variable `donnees`. S'agissant d'une page dépourvue de formattage HTML, aucun balisage HTML n'a été récupéré, il n'y a pas lieu de s'en soucier : `donnees` contient uniquement les informations à récupérer pour alimenter l'arborescence XML.\n",
    "\n",
    "Pour rappel, le but est ici d'obtenir un corpus XML dans lequel chaque ligne du tableau de données est représentée par un élément `<item>`. Segmenter le contenu de `donnees` selon les lignes constitue un bon point de départ pour la construction de la structure XML. Les chaînes de caractères (= type `str`) disposent d'une méthode `split()`, qui s'applique avec la syntaxe `chaine_de_caracteres.split(separateur)`.\n",
    "\n",
    "Utilisez `split()` pour séparer les lignes du texte stocké dans `donnees`. Associez le résultat à la variable `lignes`."
   ]
  },
  {
   "cell_type": "code",
   "execution_count": null,
   "id": "4c53c563",
   "metadata": {},
   "outputs": [],
   "source": [
    "# Segmentez le texte contenu dans donnees selon les lignes\n",
    "lignes = donnees.split(\"\\n\")"
   ]
  },
  {
   "cell_type": "markdown",
   "id": "11e450ab",
   "metadata": {},
   "source": [
    "Appelez `lignes` pour visualiser son contenu."
   ]
  },
  {
   "cell_type": "code",
   "execution_count": null,
   "id": "54c2ddff",
   "metadata": {},
   "outputs": [],
   "source": [
    "# Appelez la variable lignes\n",
    "lignes"
   ]
  },
  {
   "cell_type": "markdown",
   "id": "70fe2eea",
   "metadata": {},
   "source": [
    "S'il n'y a pas d'erreur, `lignes` contient maintenant une collection de chaînes de caractères, correspondant chacune à une ligne du tableau. Plus précisément, il s'agit d'une *liste* (type `list`). Comme l'indique [la documentation](https://docs.python.org/3/library/stdtypes.html#list), celle-ci peut être parcourue avec une boucle `for`.\n",
    "\n",
    "C'est ce que nous allons utiliser pour créer un élément `<item>` pour chaque ligne. Contrairement à l'élément racine `<LEXIQUE>` déclaré précédemment, chacun de ces éléments `<item>` est en fait un sous-élément rattaché à l'élément parent `<LEXIQUE>`. Leur déclaration ne se fera donc pas avec `ET.Element(\"Nom de l'élément\")`, mais cette fois avec `ET.SubElement(element_parent, \"Nom de l'élément\")`.\n",
    "\n",
    "Complétez la boucle `for`ci-dessous pour déclarer, pour chaque ligne, un élément `<item>` rattaché à la racine `<LEXIQUE>`."
   ]
  },
  {
   "cell_type": "code",
   "execution_count": null,
   "id": "26142ae9",
   "metadata": {},
   "outputs": [],
   "source": [
    "item_id = 1\n",
    "\n",
    "for ligne in lignes:\n",
    "    # Créez un sous-élément \"item\"\n",
    "    item = ET.SubElement(racine, \"item\")"
   ]
  },
  {
   "cell_type": "markdown",
   "id": "714f3fba",
   "metadata": {},
   "source": [
    "Affichez la structure XML pour vérifier qu'il n'y a pas de problème. Elle devrait se composer de la racine `<LEXIQUE>`, contenant une suite de sous-éléments `<item>` vides."
   ]
  },
  {
   "cell_type": "code",
   "execution_count": null,
   "id": "16ade75e",
   "metadata": {},
   "outputs": [],
   "source": [
    "# Affichez l'arborescence XML\n",
    "afficher_xml(racine)"
   ]
  },
  {
   "cell_type": "markdown",
   "id": "96de32eb",
   "metadata": {},
   "source": [
    "Avant d'attribuer un contenu à ces éléments `<item>`, il faut leur ajouter leur identifiant. Dans la cellule ci-dessous, reprenez le code de la boucle `for` et complétez-le pour ajouter à la boucle la déclaration d'un attribut `id`, de valeur croissante (associée à une variable nommée `item_id`), pour chaque élément `<item>`.  \n",
    "\n",
    "Quelques indices pour accomplir cette tâche :\n",
    "\n",
    "* La syntaxe pour ajouter un attribut à un élément XML est la suivante : `element.set(\"Nom de l'attribut\", valeur)`.\n",
    "* Pour incrémenter de 1 une valeur, vous pouver utiliser `valeur = valeur + 1` ou `valeur += 1`.\n",
    "* Seuls les [types numériques](https://docs.python.org/3/library/stdtypes.html#numeric-types-int-float-complex) peuvent être incrémentés, mais il est préférable que la valeur de l'attribut `id` soit une chaîne de caractères (`str`). Pour convertir un objet en chaîne de caractères, la fonction à utiliser est `str(objet)`.\n"
   ]
  },
  {
   "cell_type": "code",
   "execution_count": null,
   "id": "1e9a2b56",
   "metadata": {},
   "outputs": [],
   "source": [
    "racine = ET.Element(\"LEXIQUE\")\n",
    "item_id = 1\n",
    "\n",
    "for ligne in lignes: \n",
    "    # Créez un sous-élément \"item\"\n",
    "    item = ET.SubElement(racine, \"item\")\n",
    "    # Ajoutez l'attribut \"id\"\n",
    "    item.set(\"id\", str(item_id))\n",
    "    # Incrémentez la variable item_id\n",
    "    item_id += 1"
   ]
  },
  {
   "cell_type": "markdown",
   "id": "ca6e7a31",
   "metadata": {},
   "source": [
    "Affichez la structure XML pour vous assurer que chaque `<item>` a un attribut `id` et que la valeur de cet attribut est cohérente."
   ]
  },
  {
   "cell_type": "code",
   "execution_count": null,
   "id": "b6570d62",
   "metadata": {},
   "outputs": [],
   "source": [
    "# Affichez la structure XML\n",
    "afficher_xml(racine)"
   ]
  },
  {
   "cell_type": "markdown",
   "id": "764bf694",
   "metadata": {},
   "source": [
    "La structure des éléments `<item>` est prête, il est temps d'ajouter leur contenu. Dans [l'arborescence à mettre en place](#arbo_xml), chaque `<item>` contient 4 sous-éléments, correspondant aux 4 formes écrites de l'item. Dans le [tableau de données](https://github.com/alxdrdelaporte/TEKIPAKI/blob/master/lexique_linguistique_japonais.tsv), ces 4 formes sont représentées par les 4 cellules d'une même ligne. \n",
    "\n",
    "La segmentation par ligne est déjà effectuée et parcourue par la boucle `for`, il reste donc à diviser la chaîne de caractères `ligne` pour isoler le contenu correspondant à chaque cellule. \n",
    "\n",
    "Complétez le code ci-dessous pour :\n",
    "\n",
    "1. Segmenter `ligne` suivant ses cellules, en stockant la liste obtenue dans la variable `segments`.\n",
    "1. Attribuer la valeur de la cellule *Kanji* à la variable `segment_kanji`, celle de la cellule *Hiragana/Katakana* à la variable `segment_hiragana_katakana`, etc. Pour ce faire, sachez que vous pouvez appliquer un index à une liste pour en extraire un élément donné.\n",
    "\n",
    "**Note :** En Python, les index débutent à 0 et non à 1."
   ]
  },
  {
   "cell_type": "code",
   "execution_count": null,
   "id": "97464d15",
   "metadata": {},
   "outputs": [],
   "source": [
    "racine = ET.Element(\"LEXIQUE\")\n",
    "item_id = 1\n",
    "\n",
    "for ligne in lignes:\n",
    "    \"\"\"Copiez-collez votre code (début)\"\"\"\n",
    "    # Créez un sous-élément \"item\"\n",
    "    item = ET.SubElement(racine, \"item\")\n",
    "    # Ajoutez l'attribut \"id\"\n",
    "    item.set(\"id\", str(item_id))\n",
    "    # Incrémentez la variable item_id\n",
    "    item_id += 1\n",
    "    \"\"\"Copiez-collez votre code (fin)\"\"\"\n",
    "    # Segmentez la ligne selon les cellules\n",
    "    segments = ligne.split(\"\\t\")\n",
    "    # Assignez des variables aux segments\n",
    "    segment_kanji = segments[0]\n",
    "    segment_hiragana_katakana = segments[1] \n",
    "    segment_romaji = segments[2]\n",
    "    segment_francais = segments[3]\n",
    "    # Vérifiez que tout est OK\n",
    "    print(segment_kanji, segment_hiragana_katakana, segment_romaji, segment_francais)"
   ]
  },
  {
   "cell_type": "markdown",
   "id": "6c1ecd9d",
   "metadata": {},
   "source": [
    "Et voilà, c'est parfait ! ... À deux détails près :\n",
    "\n",
    "1. La boucle a récupéré la ligne d'étiquettes \"Kanji Hiragana/Katakana Rōmaji (Hepburn) Français\". C'est normal, mais nous n'en voulons pas dans le corpus XML ! \n",
    "1. Exécuter le code de la cellule ci-dessus lève une erreur `IndexError: list index out of range`.\n",
    "\n",
    "Laissons de côté le message d'erreur pour le moment. Pour ne pas récupérer la ligne d'étiquettes, il s'agit en fait de passer la première ligne du tableau sans la traiter : vous savez déjà quasiment comment faire. \n",
    "\n",
    "Complétez la condition `if` dans la cellule ci-dessous pour ignorer la première ligne :"
   ]
  },
  {
   "cell_type": "code",
   "execution_count": null,
   "id": "97c0774c",
   "metadata": {},
   "outputs": [],
   "source": [
    "racine = ET.Element(\"LEXIQUE\")\n",
    "item_id = 1\n",
    "\n",
    "for ligne in lignes:\n",
    "    # Ignorez la ligne d'étiquettes\n",
    "    if ligne is not lignes[0]:\n",
    "        \"\"\"Copiez-collez votre code (début), attention à l'indentation\"\"\"\n",
    "        # Créez un sous-élément \"item\"\n",
    "        item = ET.SubElement(racine, \"item\")\n",
    "        # Ajoutez l'attribut \"id\"\n",
    "        item.set(\"id\", str(item_id))\n",
    "        # Incrémentez la variable item_id\n",
    "        item_id += 1\n",
    "        # Segmentez la ligne selon les cellules\n",
    "        segments = ligne.split(\"\\t\")\n",
    "        # Assignez des variables aux segments\n",
    "        segment_kanji = segments[0]\n",
    "        segment_hiragana_katakana = segments[1] \n",
    "        segment_romaji = segments[2]\n",
    "        segment_francais = segments[3]\n",
    "        # Vérifiez que tout est OK\n",
    "        print(segment_kanji, segment_hiragana_katakana, segment_romaji, segment_francais)\n",
    "        \"\"\"Copiez-collez votre code (fin)\"\"\""
   ]
  },
  {
   "cell_type": "markdown",
   "id": "dc17d5cb",
   "metadata": {},
   "source": [
    "Intéressons-nous maintenant à l'`IndexError` qui, en toute logique, est encore présente. Regardez le message d'erreur complet : il nous indique que la description de l'erreur est `list index out of range` et qu'elle est survenue lors de l'assignation d'une valeur à la variable `segment_hiragana_katakana` (signalé par la flèche et le numéro de ligne en caractères gras).\n",
    "\n",
    "Ceci signifie que, lors du traitement d'une ligne du tableau, il n'a pas été possible d'atteindre l'index correspondant à la cellule *Hiragana/Katakana* : en d'autres termes, le script s'est heurté à une ligne comportant une unique cellule !\n",
    "\n",
    "Avez-vous compris ce qu'il s'est passé ? Si ce n'est pas (encore) le cas, observez attentivement le [tableau de données](https://github.com/alxdrdelaporte/TEKIPAKI/blob/master/lexique_linguistique_japonais.tsv), l'arborescence XML actuellement contenue dans `racine`, ainsi que le contenu des variables `donnees` et `lignes`, tout en gardant en tête que la ligne d'étiquettes a été ignorée **et** que les index en Python débutent à 0."
   ]
  },
  {
   "cell_type": "markdown",
   "id": "771bd4aa",
   "metadata": {},
   "source": [
    "<div style='background:gainsboro'> <b>Solution : Il y a une ligne vide à la fin du tableau, que le programme interprète comme une ligne contenant une unique cellule, dont le contenu est une chaîne de caractères vide.</b>\n",
    "\n",
    "Voici différents indices qui vous permettront de la repérer :\n",
    "* La chaîne de caractères contenue dans la variable `donnees`se termine par `\\n`.\n",
    "* Le dernier élément de la liste `lignes` est `''`, c'est-à-dire une chaîne de caractères vide.\n",
    "* Dans l'arborescence XML, stockée dans la variable `racine`, la valeur de l'attribut `id` du dernier sous-élément `<item>` est 48. Or, le tableau de données comporte 46 lignes de données : les deux `<item>` en trop correspondent à la ligne d'étiquettes et à cette ligne vide finale.\n",
    "* Lors de l'exécution de la cellule de code précédente, l'erreur survient alors que toutes les lignes de données ont été traitées, puisque le dernier élément affiché avant l'erreur est bien le dernier élément du tableau (最上級-さいじょうきゅう-<i>saijoukyuu</i>-<i>superlatif</i>). Ceci nous indique que l'étape de traitement qui entraîne l'échec du programme se situe après le traitement de la dernière ligne de données du tableau.\n",
    "</div>"
   ]
  },
  {
   "cell_type": "markdown",
   "id": "2aeeaf9c",
   "metadata": {},
   "source": [
    "Une fois le problème identifié, vous savez normalement comment le résoudre.\n",
    "\n",
    "L'ajout de l'opérateur `and` permet d'ajouter une nouvelle condition au `if` déjà mis en place. Complétez la condition `if` pour enfin vous débarrasser de l'erreur `IndexError`.  "
   ]
  },
  {
   "cell_type": "code",
   "execution_count": null,
   "id": "76babe47",
   "metadata": {},
   "outputs": [],
   "source": [
    "racine = ET.Element(\"LEXIQUE\")\n",
    "item_id = 1\n",
    "\n",
    "for ligne in lignes:\n",
    "    # Ignorez la ligne d'étiquettes + évitez de lever IndexError\n",
    "    if ligne is not lignes[0] and ligne is not lignes[-1]:\n",
    "        \"\"\"Copiez-collez votre code (début), attention à l'indentation\"\"\"\n",
    "        # Créez un sous-élément \"item\"\n",
    "        item = ET.SubElement(racine, \"item\")\n",
    "        # Ajoutez l'attribut \"id\"\n",
    "        item.set(\"id\", str(item_id))\n",
    "        # Incrémentez la variable item_id\n",
    "        item_id += 1\n",
    "        # Segmentez la ligne selon les cellules\n",
    "        segments = ligne.split(\"\\t\")\n",
    "        # Assignez des variables aux segments\n",
    "        segment_kanji = segments[0]\n",
    "        segment_hiragana_katakana = segments[1] \n",
    "        segment_romaji = segments[2]\n",
    "        segment_francais = segments[3]\n",
    "        # Vérifiez que tout est OK\n",
    "        print(segment_kanji, segment_hiragana_katakana, segment_romaji, segment_francais)\n",
    "        \"\"\"Copiez-collez votre code (fin)\"\"\""
   ]
  },
  {
   "cell_type": "markdown",
   "id": "be74d6d8",
   "metadata": {},
   "source": [
    "Une façon plus \"pythonique\" de gérer ce type de problème est l'utilisation de `try`/`except`, un dispositif qui permet au programme de prendre en charge, sans s'interrompre, certaines erreurs et exceptions ([documentation](https://docs.python.org/3.10/tutorial/errors.html#handling-exceptions)). Je vous montre ci-dessous un exemple illustrant le fonctionnement de `try`/`except`, mais il n'est là qu'à titre d'information, vous pouvez poursuivre sans l'utiliser."
   ]
  },
  {
   "cell_type": "code",
   "execution_count": null,
   "id": "9092b525",
   "metadata": {},
   "outputs": [],
   "source": [
    "# SOLUTION ALTERNATIVE AVEC TRY/EXCEPT\n",
    "# (supprimez les \"\"\" \"\"\" si vous voulez exécuter le contenu de cette cellule)\n",
    "\n",
    "\"\"\"\n",
    "racine = ET.Element(\"LEXIQUE\")\n",
    "item_id = 1\n",
    "\n",
    "for ligne in lignes:\n",
    "    # Ignorez la ligne d'étiquettes + évitez de lever IndexError\n",
    "    if ligne is not lignes[0]:\n",
    "        try:\n",
    "            # Créez un sous-élément \"item\"\n",
    "            item = ET.SubElement(racine, \"item\")\n",
    "            # Ajoutez l'attribut \"id\"\n",
    "            item.set(\"id\", str(item_id))\n",
    "            # Incrémentez la variable item_id\n",
    "            item_id += 1\n",
    "            # Segmentez la ligne selon les cellules\n",
    "            segments = ligne.split(\"\\t\")\n",
    "            # Assignez des variables aux segments\n",
    "            segment_kanji = segments[0]\n",
    "            segment_hiragana_katakana = segments[1] \n",
    "            segment_romaji = segments[2]\n",
    "            segment_francais = segments[3]\n",
    "            # Vérifiez que tout est OK\n",
    "            print(segment_kanji, segment_hiragana_katakana, segment_romaji, segment_francais)\n",
    "        except IndexError:\n",
    "            continue\n",
    "\"\"\""
   ]
  },
  {
   "cell_type": "markdown",
   "id": "56ea5065",
   "metadata": {},
   "source": [
    "Maintenant qu'il n'y a plus de problème, il ne vous reste plus qu'à ajouter ces données à l'arborescence XML. Créez d'abord des sous-éléments :"
   ]
  },
  {
   "cell_type": "code",
   "execution_count": null,
   "id": "6acde948",
   "metadata": {},
   "outputs": [],
   "source": [
    "racine = ET.Element(\"LEXIQUE\")\n",
    "item_id = 1\n",
    "\n",
    "for ligne in lignes:\n",
    "    \"\"\"Copiez-collez votre code (début)\"\"\"\n",
    "    # Ignorez la ligne d'étiquettes + évitez de lever IndexError\n",
    "    if ligne is not lignes[0] and ligne is not lignes[-1]:\n",
    "        # Créez un sous-élément \"item\"\n",
    "        item = ET.SubElement(racine, \"item\")\n",
    "        # Ajoutez l'attribut \"id\"\n",
    "        item.set(\"id\", str(item_id))\n",
    "        # Incrémentez la variable item_id\n",
    "        item_id += 1\n",
    "        # Segmentez la ligne selon les cellules\n",
    "        segments = ligne.split(\"\\t\")\n",
    "        # Assignez des variables aux segments\n",
    "        segment_kanji = segments[0]\n",
    "        segment_hiragana_katakana = segments[1] \n",
    "        segment_romaji = segments[2]\n",
    "        segment_francais = segments[3]\n",
    "        # Vérifiez que tout est OK\n",
    "        # print(segment_kanji, segment_hiragana_katakana, segment_romaji, segment_francais)\n",
    "        \"\"\"Copiez-collez votre code (fin)\"\"\"\n",
    "        # Créez des sous-éléments \"kanji\", \"hiragana_katakana\", \"romaji\" et \"francais\"\n",
    "        kanji = ET.SubElement(item, \"kanji\")\n",
    "        hiragana_katakana = ET.SubElement(item, \"hiragana_katakana\")\n",
    "        romaji = ET.SubElement(item, \"romaji\")\n",
    "        francais = ET.SubElement(item, \"francais\")"
   ]
  },
  {
   "cell_type": "markdown",
   "id": "ca76a54d",
   "metadata": {},
   "source": [
    "Vérifiez que les sous-éléments ont bien été créés :"
   ]
  },
  {
   "cell_type": "code",
   "execution_count": null,
   "id": "e2438806",
   "metadata": {},
   "outputs": [],
   "source": [
    "# Vérifiez la création des sous-éléments\n",
    "afficher_xml(racine)"
   ]
  },
  {
   "cell_type": "markdown",
   "id": "f044799a",
   "metadata": {},
   "source": [
    "En l'état, les sous-élements sont maintenant présents dans la structure XML mais dépourvus de contenu. Le contenu textuel de chaque (sous-)élément XML se trouve dans son attribut `text` (`element.text`).\n",
    "\n",
    "Ajoutez le contenu textuel correspondant aux différents sous-éléments de chaque `item` de notre corpus."
   ]
  },
  {
   "cell_type": "code",
   "execution_count": null,
   "id": "47410ebd",
   "metadata": {},
   "outputs": [],
   "source": [
    "racine = ET.Element(\"LEXIQUE\")\n",
    "item_id = 1\n",
    "\n",
    "for ligne in lignes:\n",
    "    \"\"\"Copiez-collez votre code (début)\"\"\"\n",
    "        # Ignorez la ligne d'étiquettes + évitez de lever IndexError\n",
    "    if ligne is not lignes[0] and ligne is not lignes[-1]:\n",
    "        # Créez un sous-élément \"item\"\n",
    "        item = ET.SubElement(racine, \"item\")\n",
    "        # Ajoutez l'attribut \"id\"\n",
    "        item.set(\"id\", str(item_id))\n",
    "        # Incrémentez la variable item_id\n",
    "        item_id += 1\n",
    "        # Segmentez la ligne selon les cellules\n",
    "        segments = ligne.split(\"\\t\")\n",
    "        # Assignez des variables aux segments\n",
    "        segment_kanji = segments[0]\n",
    "        segment_hiragana_katakana = segments[1] \n",
    "        segment_romaji = segments[2]\n",
    "        segment_francais = segments[3]\n",
    "        # Vérifiez que tout est OK\n",
    "        # print(segment_kanji, segment_hiragana_katakana, segment_romaji, segment_francais)\n",
    "        # Créez des sous-éléments \"kanji\", \"hiragana_katakana\", \"romaji\" et \"francais\"\n",
    "        kanji = ET.SubElement(item, \"kanji\")\n",
    "        hiragana_katakana = ET.SubElement(item, \"hiragana_katakana\")\n",
    "        romaji = ET.SubElement(item, \"romaji\")\n",
    "        francais = ET.SubElement(item, \"francais\")\n",
    "        \"\"\"Copiez-collez votre code (fin)\"\"\"\n",
    "        # Ajoutez le contenu textuel des sous-éléments\n",
    "        kanji.text = segment_kanji\n",
    "        hiragana_katakana.text = segment_hiragana_katakana\n",
    "        romaji.text = segment_romaji\n",
    "        francais.text = segment_francais"
   ]
  },
  {
   "cell_type": "markdown",
   "id": "31833a39",
   "metadata": {},
   "source": [
    "Affichez le corpus pour vérifier qu'il n'y a pas de problème."
   ]
  },
  {
   "cell_type": "code",
   "execution_count": null,
   "id": "bc0cf5f7",
   "metadata": {},
   "outputs": [],
   "source": [
    "# Affichez le corpus\n",
    "afficher_xml(racine)"
   ]
  },
  {
   "cell_type": "markdown",
   "id": "6c9a2632",
   "metadata": {},
   "source": [
    "Maintenant qu'il y a une certaine quantité de contenu dans l'aborescence, l'afficher de cette façon manque de lisibilité. Exécutez la cellule ci-dessous pour obtenir deux nouvelles fonctions qui vous permettront d'obtenir une visualisation plus agréable pour un oeil humain."
   ]
  },
  {
   "cell_type": "code",
   "execution_count": null,
   "id": "a6ca4cbb",
   "metadata": {},
   "outputs": [],
   "source": [
    "from bs4 import BeautifulSoup as soup\n",
    "\n",
    "\n",
    "def joli_xml(racine_xml):\n",
    "    return soup(xml2str(racine_xml), \"html.parser\").prettify()\n",
    "\n",
    "\n",
    "def afficher_joli_xml(racine_xml):\n",
    "    print(joli_xml(racine_xml))"
   ]
  },
  {
   "cell_type": "markdown",
   "id": "ca3fe77f",
   "metadata": {},
   "source": [
    "Vous n'avez pas besoin d'utiliser directement `joli_xml()` pour le moment. Visualisez le corpus avec `afficher_joli_xml()`."
   ]
  },
  {
   "cell_type": "code",
   "execution_count": null,
   "id": "01d12a28",
   "metadata": {},
   "outputs": [],
   "source": [
    "# Utiliser afficher_joli_xml() pour visualiser le corpus \n",
    "afficher_joli_xml(racine)"
   ]
  },
  {
   "cell_type": "markdown",
   "id": "846099f4",
   "metadata": {},
   "source": [
    "## Enrichir les données XML <a id=\"enrichissement\"></a>"
   ]
  },
  {
   "cell_type": "markdown",
   "id": "a68429a6",
   "metadata": {},
   "source": [
    "Le corpus a maintenant été alimenté avec toutes les données du tableau. Avant de l'enregistrer dans un fichier, nous allons lui ajouter quelques informations supplémentaires."
   ]
  },
  {
   "cell_type": "markdown",
   "id": "ae2dbd52",
   "metadata": {},
   "source": [
    "### Ajouter un attribut"
   ]
  },
  {
   "cell_type": "markdown",
   "id": "0ef0b8fa",
   "metadata": {},
   "source": [
    "Il se trouve que les sources dont sont issus les items de ce lexique sont connues, mais elles ne figurent pas dans le tableau. Nous allons créer un nouvel attribut `source` pour chaque élément `item` du corpus afin d'y faire figurer cette information."
   ]
  },
  {
   "cell_type": "markdown",
   "id": "574be795",
   "metadata": {},
   "source": [
    "```xml\n",
    "<LEXIQUE>\n",
    "    <item id=\"1\" source=\"...\">\n",
    "        <japonais>\n",
    "            <kanji>...</kanji>\n",
    "            <hiragana_katakana>...</hiragana_katakana>\n",
    "            <romaji>...</romaji>\n",
    "        </japonais>\n",
    "        <francais>...</francais>\n",
    "        <commentaire>...</commentaire>\n",
    "    </item>\n",
    "    <!-- Etc. -->\n",
    "</LEXIQUE>\n",
    "```"
   ]
  },
  {
   "cell_type": "markdown",
   "id": "f3c67d02",
   "metadata": {},
   "source": [
    "Les sources sont les suivantes.\n",
    "\n",
    "De 付録-ふろく-_furoku_-_appendice_ à 常-つね-_tsune_-_normal, habituel_ : \n",
    "* KURAKATA et al. (2003) プチ・ロワイヤル仏和辞典 (*Nouveau Petit Royal dictionnaire français -japonais*), troisième édition. Tokyo : Obunsha.\n",
    "* TSUNEKAWA et al. (2002) *Petit dictionnaire japonais – français Royal*. Tokyo : Obunsha.\n",
    "\n",
    "De 副詞-ふくし-_fukushi_-_adverbe_ à 最上級-さいじょうきゅう-_saijoukyuu_-_superlatif_ :\n",
    "* *Sanseido’s New Concise English-Japanese Dictionary, Revised Edition* | 新コンサイス英和辞典・第2版 (1985). Tokyo : Sanseido."
   ]
  },
  {
   "cell_type": "markdown",
   "id": "9c7954e4",
   "metadata": {},
   "source": [
    "La première partie du lexique est issue de deux dictionnaires bilingues français-japonais édités par Obunsha, la seconde d'un dictionnaire bilingue anglais-japonais édité par Sanseido. Nous allons utiliser le nom de l'éditeur comme source, l'attribut `source` aura donc pour valeur soit \"Obunsha\", soit \"Sanseido\"."
   ]
  },
  {
   "cell_type": "markdown",
   "id": "e215f2bd",
   "metadata": {},
   "source": [
    "Mais comment procéder ? Nous avons construit et stocké dans la variable `racine` une structure XML. Tout comme il existe des fonctions permettant d'écrire une arborescence XML, il y a des fonctions qui permettent de la lire. `find()` et `findall()` sont des méthodes propres aux objets `xml.etree.ElementTree.Element` qui permettent de retrouver un élément à partir de son nom.\n",
    "\n",
    "* `find()` s'utilise avec la syntaxe `element_parent.find(\"Nom de l'élément recherché\")` et renvoie uniquement le premier élément correspondant.\n",
    "* `findall()` s'utilise avec la syntaxe `element_parent.findall(\"Nom de l'élément recherché\")` et renvoie une liste de l'ensemble des éléments correspondants."
   ]
  },
  {
   "cell_type": "markdown",
   "id": "3489ec5e",
   "metadata": {},
   "source": [
    "Récupérez la liste des éléments `item` du corpus et associez-la à la variable `items`."
   ]
  },
  {
   "cell_type": "code",
   "execution_count": null,
   "id": "917f3627",
   "metadata": {},
   "outputs": [],
   "source": [
    "# Récupérez la liste des éléments item\n",
    "items = racine.findall(\"item\")"
   ]
  },
  {
   "cell_type": "markdown",
   "id": "5155a684",
   "metadata": {},
   "source": [
    "Cette liste peut être parcourue avec une boucle `for`, mais pour attribuer la valeur du futur attribut `source` il faudrait plutôt pouvoir parcourir séparément les deux parties de la liste correspondant aux items issus de chaque source. C'est bien sûr possible, mais il faut au préalable connaître les index des éléments `item` (dans la liste `items`) qui se situent à la limite entre les deux sources. \n",
    "\n",
    "Il s'agit de 常-つね-_tsune_-_normal, habituel_, dernier item issu des dictionnaires Obunsha, et 副詞-ふくし-_fukushi_-_adverbe_, premier item issu du dictionnaire Sanseido."
   ]
  },
  {
   "cell_type": "markdown",
   "id": "b4491c8e",
   "metadata": {},
   "source": [
    "Trouvez l'index de 常-つね-_tsune_-_normal, habituel_ dans la liste `items` et, dans la cellule ci-dessous, vérifiez qu'il s'agit du bon index selon la méthode de votre choix."
   ]
  },
  {
   "cell_type": "code",
   "execution_count": null,
   "id": "a9c61bea",
   "metadata": {},
   "outputs": [],
   "source": [
    "# Vérifiez l'index de 常-つね-tsune-normal, habituel\n",
    "items[25].find(\"francais\").text"
   ]
  },
  {
   "cell_type": "markdown",
   "id": "34eda354",
   "metadata": {},
   "source": [
    "Nous allons utiliser une boucle `for` pour parcourir la partie de la liste `items` qui correspond aux données issues des dictionnaires Obunsha. Le nombre d'itérations à effectuer peut être réglé grâce à la fonction `range()`. \n",
    "\n",
    "En vous aidant de la [documentation](https://docs.python.org/3/tutorial/controlflow.html#the-range-function) de la fonction `range()` et en réutilisant ce que vous avez écrit dans la cellule précédente, complétez la boucle `for` pour vérifier que vous avez sélectionné la bonne portion de la liste `items` (c'est-à-dire de 付録-ふろく-*furoku*-*appendice* à 常-つね-*tsune*-*normal, habituel*)."
   ]
  },
  {
   "cell_type": "code",
   "execution_count": null,
   "id": "63bafd0e",
   "metadata": {},
   "outputs": [],
   "source": [
    "for i in range(26):\n",
    "    # Vérifiez la portion de la liste items parcourue par la boucle\n",
    "    print(items[i].find(\"francais\").text)"
   ]
  },
  {
   "cell_type": "markdown",
   "id": "28684a25",
   "metadata": {},
   "source": [
    "La déclaration d'un attribut pour un élément de l'arborescence XML se fait soit en utilisant la syntaxe `element.set(\"Nom de l'attribut\", valeur)` que vous connaissez déjà, soit avec `element.attrib[\"Nom de l'attribut\"] = \"Valeur\"`.\n",
    "\n",
    "Pour information, lorsqu'un attribut est déjà existant, appeler `element.attrib[\"Nom de l'attribut\"]` vous permettra de récupérer sa valeur. L'ensemble des attributs d'un élément est contenu dans `element.attrib`, qui est un [dictionnaire](https://docs.python.org/3/library/stdtypes.html#mapping-types-dict), c'est-à-dire une liste associative.\n",
    "\n",
    "Si votre boucle `for` parcourt correctement les éléments allant de 付録-ふろく-*furoku*-*appendice* à 常-つね-*tsune*-*normal, habituel*, modifiez la cellule précédente ou utilisez la cellule suivante pour leur ajouter un attribut `source` dont la valeur est \"Obunsha\"."
   ]
  },
  {
   "cell_type": "code",
   "execution_count": null,
   "id": "b2b01eb1",
   "metadata": {},
   "outputs": [],
   "source": [
    "for i in range(26):\n",
    "    # Ajoutez un attribut source dont la valeur est \"Obunsha\"\n",
    "    items[i].set(\"source\", \"Obunsha\")"
   ]
  },
  {
   "cell_type": "markdown",
   "id": "c3ce843c",
   "metadata": {},
   "source": [
    "Faites la même chose pour les items issus du dictionnaire édité par Sanseido, allant de 副詞-ふくし-*fukushi*-*adverbe* à 最上級-さいじょうきゅう-*saijoukyuu*-*superlatif*.\n",
    "\n",
    "Vous aurez certainement besoin de la fonction `len(liste)`, qui renvoie la longueur d'un objet de type `list` (= le nombre d'éléments qui composent la liste)."
   ]
  },
  {
   "cell_type": "code",
   "execution_count": null,
   "id": "db35254a",
   "metadata": {},
   "outputs": [],
   "source": [
    "# Vérifiez la portion de la liste parcourue par la boucle\n",
    "for i in range(26, len(items)):\n",
    "    print(items[i].find(\"francais\").text)"
   ]
  },
  {
   "cell_type": "code",
   "execution_count": null,
   "id": "c4083d10",
   "metadata": {},
   "outputs": [],
   "source": [
    "# Ajoutez un attribut source dont la valeur est \"Sanseido\"\n",
    "for i in range(26, len(items)):\n",
    "    items[i].set(\"source\", \"Sanseido\")"
   ]
  },
  {
   "cell_type": "code",
   "execution_count": null,
   "id": "0fb62a1e",
   "metadata": {},
   "outputs": [],
   "source": [
    "# Vérifiez que les attributs ont été correctement ajoutés\n",
    "afficher_joli_xml(racine)"
   ]
  },
  {
   "cell_type": "markdown",
   "id": "a49dad56",
   "metadata": {},
   "source": [
    "### Créer un (sous-)élément supplémentaire"
   ]
  },
  {
   "cell_type": "markdown",
   "id": "99f215b9",
   "metadata": {},
   "source": [
    "Vous avez peut-être remarqué en observant le [tableau](https://github.com/alxdrdelaporte/TEKIPAKI/blob/master/lexique_linguistique_japonais.tsv) contenant le lexique que pour certaines lignes, la contenu de la cellule *Kanji* et celui de la cellule *Hiragana/Katakana* sont identiques. Il s'agit des lignes correspondant, en français, aux termes *liaison* et *élision*. Ce n'est pas dû à une erreur ou une donnée manquante : la liaison et l'élision étant des phénomène du français qui n'existent pas en japonais, leur traduction est en fait une simple transcription en katakana. \n",
    "\n",
    "Nous allons ajouter aux éléments `<item>`correspondant à *liaison* et *élision* un sous-élément `<commentaire>Pas d'écriture en kanji.</commentaire>`. En fait, vous savez déjà comment faire !\n",
    "\n",
    "Commencez par associer aux variables `liaison` et `élision` les items correspondants (dans la liste `items`). Sachant que `find()` et `findall()` peuvent aussi prendre des expressions Xpath en paramètre, vous pouvez vous amuser à trouver différentes façons d'y parvenir."
   ]
  },
  {
   "cell_type": "code",
   "execution_count": null,
   "id": "14c8a3bd",
   "metadata": {},
   "outputs": [],
   "source": [
    "# Associez l'item correspondant\n",
    "liaison = items[11]\n",
    "elision = items[12]\n",
    "\n",
    "# Utilisez print() pour vérifier le contenu des variables liaison et elision\n",
    "print(liaison.find(\"francais\").text)\n",
    "print(elision.find(\"francais\").text)"
   ]
  },
  {
   "cell_type": "markdown",
   "id": "f540eefa",
   "metadata": {},
   "source": [
    "Créez maintenant pour ces deux éléments un sous-élément `<commentaire>` dont le contenu textuel est, par exemple, \"Pas d'écriture en kanji.\". Vous pouvez le faire avec une boucle `for`, ou sans boucle. Vous pouvez écrire une fonction si vous le souhaitez."
   ]
  },
  {
   "cell_type": "markdown",
   "id": "6f5366f3",
   "metadata": {},
   "source": [
    "**Note :** N'exécutez qu'une seule des 3 solutions proposées ci-dessous, sinon des éléments `<commentaire>` supplémentaires  s'ajouteront à chaque fois !"
   ]
  },
  {
   "cell_type": "code",
   "execution_count": null,
   "id": "5d87631c",
   "metadata": {},
   "outputs": [],
   "source": [
    "# Pour les items liaison et elision, créez un sous-élément <commentaire> et son contenu textuel\n",
    "\n",
    "# SOLUTION 1 : sans fonction, sans boucle\n",
    "texte_commentaire = \"Pas d'écriture en kanji.\"\n",
    "\n",
    "com_liaison = ET.SubElement(liaison, \"commentaire\")\n",
    "com_liaison.text = texte_commentaire\n",
    "\n",
    "com_elision = ET.SubElement(elision, \"commentaire\")\n",
    "com_elision.text = texte_commentaire"
   ]
  },
  {
   "cell_type": "code",
   "execution_count": null,
   "id": "8724445d",
   "metadata": {},
   "outputs": [],
   "source": [
    "# Pour les items liaison et elision, créez un sous-élément <commentaire> et son contenu textuel\n",
    "\n",
    "# SOLUTION 2 : avec une boucle\n",
    "texte_commentaire = \"Pas d'écriture en kanji.\"\n",
    "\n",
    "for element in [liaison, elision]:\n",
    "    com_element = ET.SubElement(element, \"commentaire\")\n",
    "    com_element.text = texte_commentaire"
   ]
  },
  {
   "cell_type": "code",
   "execution_count": null,
   "id": "790241d9",
   "metadata": {},
   "outputs": [],
   "source": [
    "# Pour les items liaison et elision, créez un sous-élément <commentaire> et son contenu textuel\n",
    "\n",
    "# SOLUTION 3 : avec une fonction\n",
    "def ajouter_commentaire(elements, commentaire):\n",
    "    for element in elements:\n",
    "        com_element = ET.SubElement(element, \"commentaire\")\n",
    "        com_element.text = commentaire\n",
    "\n",
    "        \n",
    "texte_commentaire = \"Pas d'écriture en kanji.\"\n",
    "liste_elements = [liaison, elision]\n",
    "\n",
    "ajouter_commentaire(liste_elements, texte_commentaire)"
   ]
  },
  {
   "cell_type": "markdown",
   "id": "ac3fd99d",
   "metadata": {},
   "source": [
    "Ces différentes solutions ne sont que des exemples, il y a de nombreuses façons d'obtenir le même résultat."
   ]
  },
  {
   "cell_type": "code",
   "execution_count": null,
   "id": "866ecef8",
   "metadata": {},
   "outputs": [],
   "source": [
    "# Vérifiez que les sous-éléments <commentaire> ont bien été créés \n",
    "afficher_joli_xml(racine)"
   ]
  },
  {
   "cell_type": "markdown",
   "id": "769f98e7",
   "metadata": {},
   "source": [
    "Vous avez réussi ? Bravo, il ne reste plus qu'à enregistrer votre corpus dans un fichier !"
   ]
  },
  {
   "cell_type": "markdown",
   "id": "5f741135",
   "metadata": {},
   "source": [
    "## Enregistrer le corpus XML dans un fichier"
   ]
  },
  {
   "cell_type": "markdown",
   "id": "cb902803",
   "metadata": {},
   "source": [
    "Effectivement, même si vous avez maintenant obtenu un corpus au format XML conforme à vos objectifs, le seul endroit où il est sauvegardé est la variable `racine`. Comme vous l'avez vu lors de [l'étape d'enrichissement des données](#enrichissement), ça ne pose aucun problème pour lui appliquer différents traitements.\n",
    "\n",
    "Cependant, il peut bien entendu être nécessaire de produire un fichier XML, pour diverses raisons : partage et diffusion du corpus, confort de travail, changement d'outil de traitement... Ou tout simplement parce que ce corpus est le résultat final que vous cherchiez à obtenir."
   ]
  },
  {
   "cell_type": "markdown",
   "id": "43bd196a",
   "metadata": {},
   "source": [
    "Je vous fournis dans la cellule ci-dessous la syntaxe de base pour effectuer l'écriture du corpus dans un fichier de sortie au format XML. L'ouverture du fichier se fait avec la fonction `open()`, ses paramètres sont :\n",
    "\n",
    "* Le chemin d'accès du fichier de sortie, ici `\"lexique.xml\"`.\n",
    "* Le mode d'ouverture du fichier. Nous voulons ici écrire un fichier, il faut donc utiliser `\"w\"` (*write*). Les autres valeurs possibles sont `\"r\"`(*read*), `\"a\"` (*append*) et `\"x\"` (*create*).\n",
    "* L'encodage des caractères, ici `\"utf-8\"`.\n",
    "\n",
    "L'écriture du contenu dans le fichier ouvert se fait via la méthode `write()`. Complétez la cellule suivante de façon à enregistrer votre corpus dans le fichier *lexique.xml*."
   ]
  },
  {
   "cell_type": "code",
   "execution_count": null,
   "id": "e09714b8",
   "metadata": {},
   "outputs": [],
   "source": [
    "with open(\"lexique.xml\", \"w\", encoding = \"utf-8\") as lexique:\n",
    "    lexique.write(joli_xml(racine)) # Enregistrez votre corpus XML dans le fichier lexique.xml "
   ]
  },
  {
   "cell_type": "markdown",
   "id": "d50f9219",
   "metadata": {},
   "source": [
    "Ouvrez le fichier pour vérifier son contenu :\n",
    "\n",
    "* Le fichier contient-il quelque chose ?\n",
    "* Tous les caractères s'affichent-ils correctement ?\n",
    "* Le XML est-il bien formé ?\n",
    "* L'arborescence est-elle conforme à la structure attendue ?\n",
    "\n",
    "Si votre réponse est *oui* pour l'ensemble de ces questions, félicitations ! "
   ]
  },
  {
   "cell_type": "markdown",
   "id": "4afdee81",
   "metadata": {},
   "source": [
    "<div class=\"alert alert-block alert-success\"><center>🏆 Vous avez construit un corpus XML à partir d'une page web.</center></div>"
   ]
  },
  {
   "cell_type": "markdown",
   "id": "74d48844",
   "metadata": {},
   "source": [
    "<p xmlns:cc=\"http://creativecommons.org/ns#\" xmlns:dct=\"http://purl.org/dc/terms/\"><a property=\"dct:title\" rel=\"cc:attributionURL\" href=\"https://github.com/alxdrdelaporte/LTTAC_2022_TP\">Construire un corpus XML à partir du web</a> par <a rel=\"cc:attributionURL dct:creator\" property=\"cc:attributionName\" href=\"https://tekipaki.hypotheses.org/\">Alexander Delaporte</a> est mis à disposition selon les termes de la licence Creative Commons <a href=\"http://creativecommons.org/licenses/by-sa/4.0/?ref=chooser-v1\" target=\"_blank\" rel=\"license noopener noreferrer\" style=\"display:inline-block;\">CC BY-SA 4.0</a>.</p>"
   ]
  }
 ],
 "metadata": {
  "kernelspec": {
   "display_name": "Python 3 (ipykernel)",
   "language": "python",
   "name": "python3"
  },
  "language_info": {
   "codemirror_mode": {
    "name": "ipython",
    "version": 3
   },
   "file_extension": ".py",
   "mimetype": "text/x-python",
   "name": "python",
   "nbconvert_exporter": "python",
   "pygments_lexer": "ipython3",
   "version": "3.8.10"
  }
 },
 "nbformat": 4,
 "nbformat_minor": 5
}
